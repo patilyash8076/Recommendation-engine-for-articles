{
 "cells": [
  {
   "cell_type": "code",
   "execution_count": 1,
   "id": "be74b579",
   "metadata": {},
   "outputs": [
    {
     "name": "stderr",
     "output_type": "stream",
     "text": [
      "C:\\Users\\Yash\\Tensorflow_project\\tfenv\\lib\\site-packages\\tqdm\\auto.py:21: TqdmWarning: IProgress not found. Please update jupyter and ipywidgets. See https://ipywidgets.readthedocs.io/en/stable/user_install.html\n",
      "  from .autonotebook import tqdm as notebook_tqdm\n"
     ]
    }
   ],
   "source": [
    "import pandas as pd\n",
    "import numpy as np\n",
    "from sklearn.feature_extraction.text import TfidfVectorizer\n",
    "from sklearn.metrics.pairwise import linear_kernel\n",
    "import gradio as gr"
   ]
  },
  {
   "cell_type": "code",
   "execution_count": 2,
   "id": "e14e8031",
   "metadata": {},
   "outputs": [
    {
     "data": {
      "text/plain": [
       "array(['All of this work is still very early. The first full public version of the Ethereum software was recently released, and the system could face some of the same technical and legal problems that have tarnished Bitcoin. Many Bitcoin advocates say Ethereum will face more security problems than Bitcoin because of the greater complexity of the software. Thus far, Ethereum has faced much less testing, and many fewer attacks, than Bitcoin. The novel design of Ethereum may also invite intense scrutiny by authorities given that potentially fraudulent contracts, like the Ponzi schemes, can be written directly into the Ethereum system. But the sophisticated capabilities of the system have made it fascinating to some executives in corporate America. IBM said last year that it was experimenting with Ethereum as a way to control real world objects in the so-called Internet of things. Microsoft has been working on several projects that make it easier to use Ethereum on its computing cloud, Azure. \"Ethereum is a general platform where you can solve problems in many industries using a fairly elegant solution - the most elegant solution we have seen to date,\" said Marley Gray, a director of business development and strategy at Microsoft. Mr. Gray is responsible for Microsoft\\'s work with blockchains, the database concept that Bitcoin introduced. Blockchains are designed to store transactions and data without requiring any central authority or repository. Blockchain ledgers are generally maintained and updated by networks of computers working together - somewhat similar to the way that Wikipedia is updated and maintained by all its users. Many corporations, though, have created their own Ethereum networks with private blockchains, independent of the public system, and that could ultimately detract from the value of the individual unit in the Ethereum system - known as an Ether - that people have recently been buying. The interest in Ethereum is one sign of the corporate fascination with blockchains. Most major banks have expressed an interest in using them to make trading and money transfer faster and more efficient. On Tuesday, executives from the largest banks will gather for a conference, \"Blockchain: Tapping I nto the Real Potential , Cutting Through the Hype.\" Many of these banks have recently been looking at how some version of Ethereum might be put to use. JPMorgan, for instance, has created a specific tool, Masala, that allows some of its internal databases to interact with an Ethereum blockchain. Michael Novogratz, a former top executive at the private equity firm Fortress Investing Group, who helped lead Fortress\\'s investment in Bitcoin, has been looking at Ethereum since he left Fortress last fall. Mr. Novogratz said that he made a \"significant\" purchase of Ether in January. He has also heard how the financial industry\\'s chatter about the virtual currency has evolved. \"A lot of the more established players were thinking, \\'It\\'s still an experiment,\\' \" he said. \"It feels like in the last two to three months that experiment is at least getting a lot more validation.\" Since the beginning of the year, the value of an individual unit of Ether has soared as high as $12 from around $1. That has brought the value of all existing Ether to over $1 billion at times, significantly more than any virtual currency other than Bitcoin, which had over $6 billion in value outstanding last week. Since Bitcoin was invented, there have been many so-called alt-coins that have tried to improve on Bitcoin, but none have won the following of Ethereum. Unlike Bitcoin, which was released in 2009 by a mysterious creator known as Satoshi Nakamoto, Ethereum was created in a more transparent fashion by a 21-year-old Russian-Canadian, Vitalik Buterin, after he dropped out of Waterloo University in Ontario. The most basic aim of Ethereum was to make it possible to program binding agreements into the blockchain - the smart contract concept. Two people, for instance, could program a bet on a sports game directly into the Ethereum blockchain. Once the final score came in from a mutually agreed upon source - say, The Associated Press - the money would be automatically transferred to the winning party. Ether can be used as a currency in this system, but Ether are also necessary to pay for the network power needed to process the bet. The Ethereum system has sometimes been described as a single shared computer that is run by the network of users and on which resources are parceled out and paid for by Ether. A team of seven co-founders helped Mr. Buterin write up the software after he released the initial description of the system. Mr. Buterin\\'s team raised $18 million in 2014 through a presale of Ether, which helped fund the Ethereum Foundation, which supports the software\\'s development. Like Bitcoin, Ethereum has succeeded by attracting a dedicated network of followers who have helped support the software, partly in the hope that their Ether will increase in value if the system succeeds. Last week, there were 5,800 computers - or nodes - helping support the network around the world. The Bitcoin network had about 7,400 nodes. One of Mr. Buterin\\'s co-founders, Joseph Lubin, has set up ConsenSys, a company based in Brooklyn that has hired over 50 developers to build applications on the Ethereum system, including one that enables music distribution and another that allows for a new kind of financial auditing. The ConsenSys offices are in an old industrial building in the Bushwick section of Brooklyn. The office is essentially one large room, with all the messy trademarks of a start-up operation, including white boards on the walls and computer parts lying around. Mr. Lubin said he had thrown himself into Ethereum after starting to think that it delivered on some of the failed promise of Bitcoin, especially when it came to allowing new kinds of online contracts and markets. \"Bitcoin presented the broad strokes vision, and Ethereum presented the crystallization of how to deliver that vision,\" he said. Joseph Bonneau, a computer science researcher at Stanford who studies so-called crypto-currencies, said Ethereum was the first system that had really caught his interest since Bitcoin. It is far from a sure thing, he cautioned. \"Bitcoin is still probably the safest bet, but Ethereum is certainly No. 2, and some folks will say it is more likely to be around in 10 years,\" Mr. Bonneau said. \"It will depend if any real markets develop around it. If there is some actual application.\"',\n",
       "       'All of this work is still very early. The first full public version of the Ethereum software was recently released, and the system could face some of the same technical and legal problems that have tarnished Bitcoin. Many Bitcoin advocates say Ethereum will face more security problems than Bitcoin because of the greater complexity of the software. Thus far, Ethereum has faced much less testing, and many fewer attacks, than Bitcoin. The novel design of Ethereum may also invite intense scrutiny by authorities given that potentially fraudulent contracts, like the Ponzi schemes, can be written directly into the Ethereum system. But the sophisticated capabilities of the system have made it fascinating to some executives in corporate America. IBM said last year that it was experimenting with Ethereum as a way to control real world objects in the so-called Internet of things. Microsoft has been working on several projects that make it easier to use Ethereum on its computing cloud, Azure. \"Ethereum is a general platform where you can solve problems in many industries using a fairly elegant solution - the most elegant solution we have seen to date,\" said Marley Gray, a director of business development and strategy at Microsoft. Mr. Gray is responsible for Microsoft\\'s work with blockchains, the database concept that Bitcoin introduced. Blockchains are designed to store transactions and data without requiring any central authority or repository. Blockchain ledgers are generally maintained and updated by networks of computers working together - somewhat similar to the way that Wikipedia is updated and maintained by all its users. Many corporations, though, have created their own Ethereum networks with private blockchains, independent of the public system, and that could ultimately detract from the value of the individual unit in the Ethereum system - known as an Ether - that people have recently been buying. The interest in Ethereum is one sign of the corporate fascination with blockchains. Most major banks have expressed an interest in using them to make trading and money transfer faster and more efficient. On Tuesday, executives from the largest banks will gather for a conference, \"Blockchain: Tapping I nto the Real Potential , Cutting Through the Hype.\" Many of these banks have recently been looking at how some version of Ethereum might be put to use. JPMorgan, for instance, has created a specific tool, Masala, that allows some of its internal databases to interact with an Ethereum blockchain. Michael Novogratz, a former top executive at the private equity firm Fortress Investing Group, who helped lead Fortress\\'s investment in Bitcoin, has been looking at Ethereum since he left Fortress last fall. Mr. Novogratz said that he made a \"significant\" purchase of Ether in January. He has also heard how the financial industry\\'s chatter about the virtual currency has evolved. \"A lot of the more established players were thinking, \\'It\\'s still an experiment,\\' \" he said. \"It feels like in the last two to three months that experiment is at least getting a lot more validation.\" Since the beginning of the year, the value of an individual unit of Ether has soared as high as $12 from around $1. That has brought the value of all existing Ether to over $1 billion at times, significantly more than any virtual currency other than Bitcoin, which had over $6 billion in value outstanding last week. Since Bitcoin was invented, there have been many so-called alt-coins that have tried to improve on Bitcoin, but none have won the following of Ethereum. Unlike Bitcoin, which was released in 2009 by a mysterious creator known as Satoshi Nakamoto, Ethereum was created in a more transparent fashion by a 21-year-old Russian-Canadian, Vitalik Buterin, after he dropped out of Waterloo University in Ontario. The most basic aim of Ethereum was to make it possible to program binding agreements into the blockchain - the smart contract concept. Two people, for instance, could program a bet on a sports game directly into the Ethereum blockchain. Once the final score came in from a mutually agreed upon source - say, The Associated Press - the money would be automatically transferred to the winning party. Ether can be used as a currency in this system, but Ether are also necessary to pay for the network power needed to process the bet. The Ethereum system has sometimes been described as a single shared computer that is run by the network of users and on which resources are parceled out and paid for by Ether. A team of seven co-founders helped Mr. Buterin write up the software after he released the initial description of the system. Mr. Buterin\\'s team raised $18 million in 2014 through a presale of Ether, which helped fund the Ethereum Foundation, which supports the software\\'s development. Like Bitcoin, Ethereum has succeeded by attracting a dedicated network of followers who have helped support the software, partly in the hope that their Ether will increase in value if the system succeeds. Last week, there were 5,800 computers - or nodes - helping support the network around the world. The Bitcoin network had about 7,400 nodes. One of Mr. Buterin\\'s co-founders, Joseph Lubin, has set up ConsenSys, a company based in Brooklyn that has hired over 50 developers to build applications on the Ethereum system, including one that enables music distribution and another that allows for a new kind of financial auditing. The ConsenSys offices are in an old industrial building in the Bushwick section of Brooklyn. The office is essentially one large room, with all the messy trademarks of a start-up operation, including white boards on the walls and computer parts lying around. Mr. Lubin said he had thrown himself into Ethereum after starting to think that it delivered on some of the failed promise of Bitcoin, especially when it came to allowing new kinds of online contracts and markets. \"Bitcoin presented the broad strokes vision, and Ethereum presented the crystallization of how to deliver that vision,\" he said. Joseph Bonneau, a computer science researcher at Stanford who studies so-called crypto-currencies, said Ethereum was the first system that had really caught his interest since Bitcoin. It is far from a sure thing, he cautioned. \"Bitcoin is still probably the safest bet, but Ethereum is certainly No. 2, and some folks will say it is more likely to be around in 10 years,\" Mr. Bonneau said. \"It will depend if any real markets develop around it. If there is some actual application.\"',\n",
       "       'The alarm clock wakes me at 8:00 with stream of advert-free broadcasting, charged at one satoshi per second. The current BTC exchange rate makes that snooze button a costly proposition! So I get up, make coffee and go to my computer to check the overnight performance of my bots. TradeBot earns me on Trump and Branson TradeBot, which allocates funds between the main chain and various national currency side-chains, generated a lucrative 0.24 BTC return. TradeBot has been reliably profitable ever since I set it to trade USDcoin according to political prediction market data. As expected, the latest poll numbers came in as highly supportive of Trump\\'s re-election as USDcoin CEO. Trump\\'s resistance to de-anonymizing public spending, by moving USDcoin off the Confidential Transactions layer, continues to erode his coin\\'s credibility. In his latest speech, Trump maintains that full CT-privacy is essential to \"combatting CNYcoin\\'s sinister ring-signature scheming.\" I make a note to increase my long position in GBPcoin. Following CEO Branson\\'s memo to the effect that government finances and national banks be brought into compliance with the public blockchain , British corruption indices have flatlined. As the first national econmy to \"go light,\" Britain leads the global recovery from the Great Debt Default of \\'20. Happy with the GoatData Project I check TeachBot and note that it\\'s performing in-line with expectations. TeachBot serves as an autonomous info-agent between various contracting AIs and data providers. The 0.5 BTC bounty it awarded to a team of Sherpas to outfit a herd of Tibetan mountain goats with full motion-sensing rigs has already been repaid...I check the latest figures... four times over! My best TeachBot strategy to date, the GoatData project provides valuable data to WinterHoof, the Artificial General Intelligence in charge of the Swiss military\\'s quadripedal robotics program. At this rate, I\\'ll soon have enough BTC to retire to Satoshi City on Mars!',\n",
       "       \"We're excited to share the Google Data Center 360° Tour - a YouTube 360° video that gives you an unprecedented and immersive look inside one of our data centers. There are several ways to view this video: On desktop using Google Chrome use your mouse or trackpad to change your view while the video plays YouTube app on mobile - move your device around to look at all angles while the video plays And the most immersive way to view - using Google Cardboard (currently supported by the Android YouTube app only, iOS support is coming soon!) Load the video in the YouTube app and tap on the Cardboard icon when the video starts to play. Insert your phone in Cardboard and look around. A little background . . . Several months ago, those of us on the Google Cloud Developer Advocacy Team had a rare opportunity to tour the Google data center in The Dalles, Oregon. Many of us had seen other non-Google data centers in our careers, but this experience was beyond anything we ever imagined. We were blown away by the scale, the incredible attention to security and privacy, and the amazing efforts to make the data center extremely efficient and green. Additionally, we were proud to meet some of the brilliant people that design, build and maintain these data centers. If you are a Google Cloud Platform customer, then this is your data center as much as it is our data center, so we want you to experience what we experienced. We hope you enjoy it! - Posted by Greg Wilson, Head of Developer Advocacy, Google Cloud Platform\"],\n",
       "      dtype=object)"
      ]
     },
     "execution_count": 2,
     "metadata": {},
     "output_type": "execute_result"
    }
   ],
   "source": [
    "articles_df = pd.read_csv(\"C:/Users/Yash/Downloads/shared_articles.csv\")\n",
    "# articles_df['text'].head(1)\n",
    "articles_df.head(4)['text'].values"
   ]
  },
  {
   "cell_type": "code",
   "execution_count": 3,
   "id": "df626484",
   "metadata": {
    "scrolled": true
   },
   "outputs": [
    {
     "data": {
      "text/html": [
       "<div>\n",
       "<style scoped>\n",
       "    .dataframe tbody tr th:only-of-type {\n",
       "        vertical-align: middle;\n",
       "    }\n",
       "\n",
       "    .dataframe tbody tr th {\n",
       "        vertical-align: top;\n",
       "    }\n",
       "\n",
       "    .dataframe thead th {\n",
       "        text-align: right;\n",
       "    }\n",
       "</style>\n",
       "<table border=\"1\" class=\"dataframe\">\n",
       "  <thead>\n",
       "    <tr style=\"text-align: right;\">\n",
       "      <th></th>\n",
       "      <th>timestamp</th>\n",
       "      <th>eventType</th>\n",
       "      <th>contentId</th>\n",
       "      <th>authorPersonId</th>\n",
       "      <th>authorSessionId</th>\n",
       "      <th>authorUserAgent</th>\n",
       "      <th>authorRegion</th>\n",
       "      <th>authorCountry</th>\n",
       "      <th>contentType</th>\n",
       "      <th>url</th>\n",
       "      <th>title</th>\n",
       "      <th>text</th>\n",
       "      <th>lang</th>\n",
       "    </tr>\n",
       "  </thead>\n",
       "  <tbody>\n",
       "    <tr>\n",
       "      <th>0</th>\n",
       "      <td>1459192779</td>\n",
       "      <td>CONTENT REMOVED</td>\n",
       "      <td>-6451309518266745024</td>\n",
       "      <td>4340306774493623681</td>\n",
       "      <td>8940341205206233829</td>\n",
       "      <td>NaN</td>\n",
       "      <td>NaN</td>\n",
       "      <td>NaN</td>\n",
       "      <td>HTML</td>\n",
       "      <td>http://www.nytimes.com/2016/03/28/business/dea...</td>\n",
       "      <td>Ethereum, a Virtual Currency, Enables Transact...</td>\n",
       "      <td>All of this work is still very early. The firs...</td>\n",
       "      <td>en</td>\n",
       "    </tr>\n",
       "    <tr>\n",
       "      <th>1</th>\n",
       "      <td>1459194146</td>\n",
       "      <td>CONTENT SHARED</td>\n",
       "      <td>-7292285110016212249</td>\n",
       "      <td>4340306774493623681</td>\n",
       "      <td>8940341205206233829</td>\n",
       "      <td>NaN</td>\n",
       "      <td>NaN</td>\n",
       "      <td>NaN</td>\n",
       "      <td>HTML</td>\n",
       "      <td>http://cointelegraph.com/news/bitcoin-future-w...</td>\n",
       "      <td>Bitcoin Future: When GBPcoin of Branson Wins O...</td>\n",
       "      <td>The alarm clock wakes me at 8:00 with stream o...</td>\n",
       "      <td>en</td>\n",
       "    </tr>\n",
       "    <tr>\n",
       "      <th>2</th>\n",
       "      <td>1459194474</td>\n",
       "      <td>CONTENT SHARED</td>\n",
       "      <td>-6151852268067518688</td>\n",
       "      <td>3891637997717104548</td>\n",
       "      <td>-1457532940883382585</td>\n",
       "      <td>NaN</td>\n",
       "      <td>NaN</td>\n",
       "      <td>NaN</td>\n",
       "      <td>HTML</td>\n",
       "      <td>https://cloudplatform.googleblog.com/2016/03/G...</td>\n",
       "      <td>Google Data Center 360° Tour</td>\n",
       "      <td>We're excited to share the Google Data Center ...</td>\n",
       "      <td>en</td>\n",
       "    </tr>\n",
       "    <tr>\n",
       "      <th>3</th>\n",
       "      <td>1459194497</td>\n",
       "      <td>CONTENT SHARED</td>\n",
       "      <td>2448026894306402386</td>\n",
       "      <td>4340306774493623681</td>\n",
       "      <td>8940341205206233829</td>\n",
       "      <td>NaN</td>\n",
       "      <td>NaN</td>\n",
       "      <td>NaN</td>\n",
       "      <td>HTML</td>\n",
       "      <td>https://bitcoinmagazine.com/articles/ibm-wants...</td>\n",
       "      <td>IBM Wants to \"Evolve the Internet\" With Blockc...</td>\n",
       "      <td>The Aite Group projects the blockchain market ...</td>\n",
       "      <td>en</td>\n",
       "    </tr>\n",
       "    <tr>\n",
       "      <th>4</th>\n",
       "      <td>1459194522</td>\n",
       "      <td>CONTENT SHARED</td>\n",
       "      <td>-2826566343807132236</td>\n",
       "      <td>4340306774493623681</td>\n",
       "      <td>8940341205206233829</td>\n",
       "      <td>NaN</td>\n",
       "      <td>NaN</td>\n",
       "      <td>NaN</td>\n",
       "      <td>HTML</td>\n",
       "      <td>http://www.coindesk.com/ieee-blockchain-oxford...</td>\n",
       "      <td>IEEE to Talk Blockchain at Cloud Computing Oxf...</td>\n",
       "      <td>One of the largest and oldest organizations fo...</td>\n",
       "      <td>en</td>\n",
       "    </tr>\n",
       "    <tr>\n",
       "      <th>...</th>\n",
       "      <td>...</td>\n",
       "      <td>...</td>\n",
       "      <td>...</td>\n",
       "      <td>...</td>\n",
       "      <td>...</td>\n",
       "      <td>...</td>\n",
       "      <td>...</td>\n",
       "      <td>...</td>\n",
       "      <td>...</td>\n",
       "      <td>...</td>\n",
       "      <td>...</td>\n",
       "      <td>...</td>\n",
       "      <td>...</td>\n",
       "    </tr>\n",
       "    <tr>\n",
       "      <th>3021</th>\n",
       "      <td>1487946604</td>\n",
       "      <td>CONTENT SHARED</td>\n",
       "      <td>9213260650272029784</td>\n",
       "      <td>3609194402293569455</td>\n",
       "      <td>7144190892417579456</td>\n",
       "      <td>Mozilla/5.0 (Windows NT 10.0; WOW64) AppleWebK...</td>\n",
       "      <td>SP</td>\n",
       "      <td>BR</td>\n",
       "      <td>HTML</td>\n",
       "      <td>https://startupi.com.br/2017/02/liga-ventures-...</td>\n",
       "      <td>Conheça a Liga IoT, plataforma de inovação abe...</td>\n",
       "      <td>A Liga Ventures, aceleradora de startups espec...</td>\n",
       "      <td>pt</td>\n",
       "    </tr>\n",
       "    <tr>\n",
       "      <th>3022</th>\n",
       "      <td>1487947067</td>\n",
       "      <td>CONTENT SHARED</td>\n",
       "      <td>-3295913657316686039</td>\n",
       "      <td>6960073744377754728</td>\n",
       "      <td>-8193630595542572738</td>\n",
       "      <td>Mozilla/5.0 (Macintosh; Intel Mac OS X 10_12_3...</td>\n",
       "      <td>GA</td>\n",
       "      <td>US</td>\n",
       "      <td>HTML</td>\n",
       "      <td>https://thenextweb.com/apps/2017/02/14/amazon-...</td>\n",
       "      <td>Amazon takes on Skype and GoToMeeting with its...</td>\n",
       "      <td>Amazon has launched Chime, a video conferencin...</td>\n",
       "      <td>en</td>\n",
       "    </tr>\n",
       "    <tr>\n",
       "      <th>3023</th>\n",
       "      <td>1488223224</td>\n",
       "      <td>CONTENT SHARED</td>\n",
       "      <td>3618271604906293310</td>\n",
       "      <td>1908339160857512799</td>\n",
       "      <td>-183341653743161643</td>\n",
       "      <td>Mozilla/5.0 (Macintosh; Intel Mac OS X 10_12_0...</td>\n",
       "      <td>SP</td>\n",
       "      <td>BR</td>\n",
       "      <td>HTML</td>\n",
       "      <td>https://code.org/about/2016</td>\n",
       "      <td>Code.org 2016 Annual Report</td>\n",
       "      <td>February 9, 2017 - We begin each year with a l...</td>\n",
       "      <td>en</td>\n",
       "    </tr>\n",
       "    <tr>\n",
       "      <th>3024</th>\n",
       "      <td>1488300719</td>\n",
       "      <td>CONTENT SHARED</td>\n",
       "      <td>6607431762270322325</td>\n",
       "      <td>-1393866732742189886</td>\n",
       "      <td>2367029511384577082</td>\n",
       "      <td>Mozilla/5.0 (X11; Linux x86_64) AppleWebKit/53...</td>\n",
       "      <td>MG</td>\n",
       "      <td>BR</td>\n",
       "      <td>HTML</td>\n",
       "      <td>https://www.bloomberg.com/news/articles/2017-0...</td>\n",
       "      <td>JPMorgan Software Does in Seconds What Took La...</td>\n",
       "      <td>At JPMorgan Chase &amp; Co., a learning machine is...</td>\n",
       "      <td>en</td>\n",
       "    </tr>\n",
       "    <tr>\n",
       "      <th>3025</th>\n",
       "      <td>1488307871</td>\n",
       "      <td>CONTENT SHARED</td>\n",
       "      <td>4109618890343020064</td>\n",
       "      <td>3891637997717104548</td>\n",
       "      <td>-7416795577834806518</td>\n",
       "      <td>Mozilla/5.0 (X11; Linux x86_64) AppleWebKit/53...</td>\n",
       "      <td>SP</td>\n",
       "      <td>BR</td>\n",
       "      <td>HTML</td>\n",
       "      <td>https://www.acquia.com/blog/partner/2017-acqui...</td>\n",
       "      <td>The 2017 Acquia Partners of the Year</td>\n",
       "      <td>The Acquia Partner Awards Program is comprised...</td>\n",
       "      <td>en</td>\n",
       "    </tr>\n",
       "  </tbody>\n",
       "</table>\n",
       "<p>3026 rows × 13 columns</p>\n",
       "</div>"
      ],
      "text/plain": [
       "       timestamp        eventType            contentId       authorPersonId  \\\n",
       "0     1459192779  CONTENT REMOVED -6451309518266745024  4340306774493623681   \n",
       "1     1459194146   CONTENT SHARED -7292285110016212249  4340306774493623681   \n",
       "2     1459194474   CONTENT SHARED -6151852268067518688  3891637997717104548   \n",
       "3     1459194497   CONTENT SHARED  2448026894306402386  4340306774493623681   \n",
       "4     1459194522   CONTENT SHARED -2826566343807132236  4340306774493623681   \n",
       "...          ...              ...                  ...                  ...   \n",
       "3021  1487946604   CONTENT SHARED  9213260650272029784  3609194402293569455   \n",
       "3022  1487947067   CONTENT SHARED -3295913657316686039  6960073744377754728   \n",
       "3023  1488223224   CONTENT SHARED  3618271604906293310  1908339160857512799   \n",
       "3024  1488300719   CONTENT SHARED  6607431762270322325 -1393866732742189886   \n",
       "3025  1488307871   CONTENT SHARED  4109618890343020064  3891637997717104548   \n",
       "\n",
       "          authorSessionId                                    authorUserAgent  \\\n",
       "0     8940341205206233829                                                NaN   \n",
       "1     8940341205206233829                                                NaN   \n",
       "2    -1457532940883382585                                                NaN   \n",
       "3     8940341205206233829                                                NaN   \n",
       "4     8940341205206233829                                                NaN   \n",
       "...                   ...                                                ...   \n",
       "3021  7144190892417579456  Mozilla/5.0 (Windows NT 10.0; WOW64) AppleWebK...   \n",
       "3022 -8193630595542572738  Mozilla/5.0 (Macintosh; Intel Mac OS X 10_12_3...   \n",
       "3023  -183341653743161643  Mozilla/5.0 (Macintosh; Intel Mac OS X 10_12_0...   \n",
       "3024  2367029511384577082  Mozilla/5.0 (X11; Linux x86_64) AppleWebKit/53...   \n",
       "3025 -7416795577834806518  Mozilla/5.0 (X11; Linux x86_64) AppleWebKit/53...   \n",
       "\n",
       "     authorRegion authorCountry contentType  \\\n",
       "0             NaN           NaN        HTML   \n",
       "1             NaN           NaN        HTML   \n",
       "2             NaN           NaN        HTML   \n",
       "3             NaN           NaN        HTML   \n",
       "4             NaN           NaN        HTML   \n",
       "...           ...           ...         ...   \n",
       "3021           SP            BR        HTML   \n",
       "3022           GA            US        HTML   \n",
       "3023           SP            BR        HTML   \n",
       "3024           MG            BR        HTML   \n",
       "3025           SP            BR        HTML   \n",
       "\n",
       "                                                    url  \\\n",
       "0     http://www.nytimes.com/2016/03/28/business/dea...   \n",
       "1     http://cointelegraph.com/news/bitcoin-future-w...   \n",
       "2     https://cloudplatform.googleblog.com/2016/03/G...   \n",
       "3     https://bitcoinmagazine.com/articles/ibm-wants...   \n",
       "4     http://www.coindesk.com/ieee-blockchain-oxford...   \n",
       "...                                                 ...   \n",
       "3021  https://startupi.com.br/2017/02/liga-ventures-...   \n",
       "3022  https://thenextweb.com/apps/2017/02/14/amazon-...   \n",
       "3023                        https://code.org/about/2016   \n",
       "3024  https://www.bloomberg.com/news/articles/2017-0...   \n",
       "3025  https://www.acquia.com/blog/partner/2017-acqui...   \n",
       "\n",
       "                                                  title  \\\n",
       "0     Ethereum, a Virtual Currency, Enables Transact...   \n",
       "1     Bitcoin Future: When GBPcoin of Branson Wins O...   \n",
       "2                          Google Data Center 360° Tour   \n",
       "3     IBM Wants to \"Evolve the Internet\" With Blockc...   \n",
       "4     IEEE to Talk Blockchain at Cloud Computing Oxf...   \n",
       "...                                                 ...   \n",
       "3021  Conheça a Liga IoT, plataforma de inovação abe...   \n",
       "3022  Amazon takes on Skype and GoToMeeting with its...   \n",
       "3023                        Code.org 2016 Annual Report   \n",
       "3024  JPMorgan Software Does in Seconds What Took La...   \n",
       "3025               The 2017 Acquia Partners of the Year   \n",
       "\n",
       "                                                   text lang  \n",
       "0     All of this work is still very early. The firs...   en  \n",
       "1     The alarm clock wakes me at 8:00 with stream o...   en  \n",
       "2     We're excited to share the Google Data Center ...   en  \n",
       "3     The Aite Group projects the blockchain market ...   en  \n",
       "4     One of the largest and oldest organizations fo...   en  \n",
       "...                                                 ...  ...  \n",
       "3021  A Liga Ventures, aceleradora de startups espec...   pt  \n",
       "3022  Amazon has launched Chime, a video conferencin...   en  \n",
       "3023  February 9, 2017 - We begin each year with a l...   en  \n",
       "3024  At JPMorgan Chase & Co., a learning machine is...   en  \n",
       "3025  The Acquia Partner Awards Program is comprised...   en  \n",
       "\n",
       "[3026 rows x 13 columns]"
      ]
     },
     "execution_count": 3,
     "metadata": {},
     "output_type": "execute_result"
    }
   ],
   "source": [
    "# Dropped rows with duplicate 'title' and 'text', keeping only the first occurrence\n",
    "articles_df = articles_df[~articles_df.duplicated(subset=['title', 'text'], keep='first')].reset_index(drop=True)\n",
    "articles_df['title'] = articles_df['title'].dropna()\n",
    "articles_df"
   ]
  },
  {
   "cell_type": "code",
   "execution_count": 4,
   "id": "7bdaa3fd",
   "metadata": {
    "scrolled": true
   },
   "outputs": [],
   "source": [
    "vectorizer = TfidfVectorizer(stop_words = \"english\")"
   ]
  },
  {
   "cell_type": "code",
   "execution_count": 5,
   "id": "e17cfc45",
   "metadata": {},
   "outputs": [],
   "source": [
    "articles_df['text'] = articles_df[\"text\"].fillna(\" \")\n",
    "tfid_matrix = vectorizer.fit_transform(articles_df['text'])"
   ]
  },
  {
   "cell_type": "code",
   "execution_count": 6,
   "id": "e1923c53",
   "metadata": {
    "scrolled": true
   },
   "outputs": [
    {
     "name": "stdout",
     "output_type": "stream",
     "text": [
      "  (0, 5908)\t0.014483965745159734\n",
      "  (0, 3188)\t0.017965771992699726\n",
      "  (0, 20370)\t0.01684005349635588\n",
      "  (0, 19431)\t0.023418177126715997\n",
      "  (0, 71545)\t0.011761583068954628\n",
      "  (0, 235)\t0.012049547387342093\n",
      "  (0, 39555)\t0.0142117729996426\n",
      "  (0, 28222)\t0.022424344295473513\n",
      "  (0, 12446)\t0.01930638315433926\n",
      "  (0, 57925)\t0.0359395353212173\n",
      "  (0, 52025)\t0.015185594125140136\n",
      "  (0, 12128)\t0.033658686778953006\n",
      "  (0, 65217)\t0.013457407393782102\n",
      "  (0, 63512)\t0.013523950693742999\n",
      "  (0, 12099)\t0.02396226351258414\n",
      "  (0, 54264)\t0.012439158624911182\n",
      "  (0, 17895)\t0.02832730616569357\n",
      "  (0, 17619)\t0.03060815470795786\n",
      "  (0, 62705)\t0.02202210442693659\n",
      "  (0, 62115)\t0.024215512193316833\n",
      "  (0, 56088)\t0.023800487473335956\n",
      "  (0, 58547)\t0.017193857789709284\n",
      "  (0, 9856)\t0.07683697227050369\n",
      "  (0, 19165)\t0.017033418987109483\n",
      "  (0, 17639)\t0.038418486135251846\n",
      "  :\t:\n",
      "  (3024, 39021)\t0.05242314236385844\n",
      "  (3024, 54453)\t0.018720034838836688\n",
      "  (3024, 61152)\t0.08867467152148387\n",
      "  (3024, 71105)\t0.036848862328282786\n",
      "  (3025, 14985)\t0.21219675845269936\n",
      "  (3025, 7860)\t0.3600683536155184\n",
      "  (3025, 54552)\t0.15054868761502385\n",
      "  (3025, 3088)\t0.39982624295066516\n",
      "  (3025, 12042)\t0.15454971475544751\n",
      "  (3025, 12051)\t0.15905453802872455\n",
      "  (3025, 16335)\t0.16336573909874702\n",
      "  (3025, 17049)\t0.10571869540149521\n",
      "  (3025, 55153)\t0.1739487123592098\n",
      "  (3025, 48508)\t0.2883283413885404\n",
      "  (3025, 31101)\t0.25381127050868657\n",
      "  (3025, 47621)\t0.12907709536223638\n",
      "  (3025, 51806)\t0.1289175488974428\n",
      "  (3025, 908)\t0.09537283901432098\n",
      "  (3025, 48511)\t0.422717197298202\n",
      "  (3025, 30317)\t0.11178565397408494\n",
      "  (3025, 49281)\t0.10245663567267689\n",
      "  (3025, 52268)\t0.12199134872853504\n",
      "  (3025, 47580)\t0.20355878645015313\n",
      "  (3025, 10896)\t0.08627429134061908\n",
      "  (3025, 71539)\t0.26479409716694824\n"
     ]
    }
   ],
   "source": [
    "print(tfid_matrix)"
   ]
  },
  {
   "cell_type": "code",
   "execution_count": 7,
   "id": "38f1b4cd",
   "metadata": {
    "scrolled": true
   },
   "outputs": [
    {
     "name": "stdout",
     "output_type": "stream",
     "text": [
      "[[1.         0.03004292 0.01604768 ... 0.05108797 0.08973755 0.02015469]\n",
      " [0.03004292 1.         0.02349927 ... 0.02705937 0.03340464 0.01140893]\n",
      " [0.01604768 0.02349927 1.         ... 0.02251768 0.04506884 0.        ]\n",
      " ...\n",
      " [0.05108797 0.02705937 0.02251768 ... 1.         0.05938275 0.07890865]\n",
      " [0.08973755 0.03340464 0.04506884 ... 0.05938275 1.         0.04332828]\n",
      " [0.02015469 0.01140893 0.         ... 0.07890865 0.04332828 1.        ]]\n"
     ]
    }
   ],
   "source": [
    "cosine_simm = linear_kernel(tfid_matrix,tfid_matrix)\n",
    "print(cosine_simm)"
   ]
  },
  {
   "cell_type": "code",
   "execution_count": 8,
   "id": "9f18aca9",
   "metadata": {
    "scrolled": true
   },
   "outputs": [
    {
     "data": {
      "text/html": [
       "<div>\n",
       "<style scoped>\n",
       "    .dataframe tbody tr th:only-of-type {\n",
       "        vertical-align: middle;\n",
       "    }\n",
       "\n",
       "    .dataframe tbody tr th {\n",
       "        vertical-align: top;\n",
       "    }\n",
       "\n",
       "    .dataframe thead th {\n",
       "        text-align: right;\n",
       "    }\n",
       "</style>\n",
       "<table border=\"1\" class=\"dataframe\">\n",
       "  <thead>\n",
       "    <tr style=\"text-align: right;\">\n",
       "      <th></th>\n",
       "      <th>timestamp</th>\n",
       "      <th>eventType</th>\n",
       "      <th>contentId</th>\n",
       "      <th>authorPersonId</th>\n",
       "      <th>authorSessionId</th>\n",
       "      <th>authorUserAgent</th>\n",
       "      <th>authorRegion</th>\n",
       "      <th>authorCountry</th>\n",
       "      <th>contentType</th>\n",
       "      <th>url</th>\n",
       "      <th>title</th>\n",
       "      <th>text</th>\n",
       "      <th>lang</th>\n",
       "    </tr>\n",
       "  </thead>\n",
       "  <tbody>\n",
       "    <tr>\n",
       "      <th>0</th>\n",
       "      <td>1459192779</td>\n",
       "      <td>CONTENT REMOVED</td>\n",
       "      <td>-6451309518266745024</td>\n",
       "      <td>4340306774493623681</td>\n",
       "      <td>8940341205206233829</td>\n",
       "      <td>NaN</td>\n",
       "      <td>NaN</td>\n",
       "      <td>NaN</td>\n",
       "      <td>HTML</td>\n",
       "      <td>http://www.nytimes.com/2016/03/28/business/dea...</td>\n",
       "      <td>Ethereum, a Virtual Currency, Enables Transact...</td>\n",
       "      <td>All of this work is still very early. The firs...</td>\n",
       "      <td>en</td>\n",
       "    </tr>\n",
       "    <tr>\n",
       "      <th>1</th>\n",
       "      <td>1459194146</td>\n",
       "      <td>CONTENT SHARED</td>\n",
       "      <td>-7292285110016212249</td>\n",
       "      <td>4340306774493623681</td>\n",
       "      <td>8940341205206233829</td>\n",
       "      <td>NaN</td>\n",
       "      <td>NaN</td>\n",
       "      <td>NaN</td>\n",
       "      <td>HTML</td>\n",
       "      <td>http://cointelegraph.com/news/bitcoin-future-w...</td>\n",
       "      <td>Bitcoin Future: When GBPcoin of Branson Wins O...</td>\n",
       "      <td>The alarm clock wakes me at 8:00 with stream o...</td>\n",
       "      <td>en</td>\n",
       "    </tr>\n",
       "    <tr>\n",
       "      <th>2</th>\n",
       "      <td>1459194474</td>\n",
       "      <td>CONTENT SHARED</td>\n",
       "      <td>-6151852268067518688</td>\n",
       "      <td>3891637997717104548</td>\n",
       "      <td>-1457532940883382585</td>\n",
       "      <td>NaN</td>\n",
       "      <td>NaN</td>\n",
       "      <td>NaN</td>\n",
       "      <td>HTML</td>\n",
       "      <td>https://cloudplatform.googleblog.com/2016/03/G...</td>\n",
       "      <td>Google Data Center 360° Tour</td>\n",
       "      <td>We're excited to share the Google Data Center ...</td>\n",
       "      <td>en</td>\n",
       "    </tr>\n",
       "    <tr>\n",
       "      <th>3</th>\n",
       "      <td>1459194497</td>\n",
       "      <td>CONTENT SHARED</td>\n",
       "      <td>2448026894306402386</td>\n",
       "      <td>4340306774493623681</td>\n",
       "      <td>8940341205206233829</td>\n",
       "      <td>NaN</td>\n",
       "      <td>NaN</td>\n",
       "      <td>NaN</td>\n",
       "      <td>HTML</td>\n",
       "      <td>https://bitcoinmagazine.com/articles/ibm-wants...</td>\n",
       "      <td>IBM Wants to \"Evolve the Internet\" With Blockc...</td>\n",
       "      <td>The Aite Group projects the blockchain market ...</td>\n",
       "      <td>en</td>\n",
       "    </tr>\n",
       "    <tr>\n",
       "      <th>4</th>\n",
       "      <td>1459194522</td>\n",
       "      <td>CONTENT SHARED</td>\n",
       "      <td>-2826566343807132236</td>\n",
       "      <td>4340306774493623681</td>\n",
       "      <td>8940341205206233829</td>\n",
       "      <td>NaN</td>\n",
       "      <td>NaN</td>\n",
       "      <td>NaN</td>\n",
       "      <td>HTML</td>\n",
       "      <td>http://www.coindesk.com/ieee-blockchain-oxford...</td>\n",
       "      <td>IEEE to Talk Blockchain at Cloud Computing Oxf...</td>\n",
       "      <td>One of the largest and oldest organizations fo...</td>\n",
       "      <td>en</td>\n",
       "    </tr>\n",
       "  </tbody>\n",
       "</table>\n",
       "</div>"
      ],
      "text/plain": [
       "    timestamp        eventType            contentId       authorPersonId  \\\n",
       "0  1459192779  CONTENT REMOVED -6451309518266745024  4340306774493623681   \n",
       "1  1459194146   CONTENT SHARED -7292285110016212249  4340306774493623681   \n",
       "2  1459194474   CONTENT SHARED -6151852268067518688  3891637997717104548   \n",
       "3  1459194497   CONTENT SHARED  2448026894306402386  4340306774493623681   \n",
       "4  1459194522   CONTENT SHARED -2826566343807132236  4340306774493623681   \n",
       "\n",
       "       authorSessionId authorUserAgent authorRegion authorCountry contentType  \\\n",
       "0  8940341205206233829             NaN          NaN           NaN        HTML   \n",
       "1  8940341205206233829             NaN          NaN           NaN        HTML   \n",
       "2 -1457532940883382585             NaN          NaN           NaN        HTML   \n",
       "3  8940341205206233829             NaN          NaN           NaN        HTML   \n",
       "4  8940341205206233829             NaN          NaN           NaN        HTML   \n",
       "\n",
       "                                                 url  \\\n",
       "0  http://www.nytimes.com/2016/03/28/business/dea...   \n",
       "1  http://cointelegraph.com/news/bitcoin-future-w...   \n",
       "2  https://cloudplatform.googleblog.com/2016/03/G...   \n",
       "3  https://bitcoinmagazine.com/articles/ibm-wants...   \n",
       "4  http://www.coindesk.com/ieee-blockchain-oxford...   \n",
       "\n",
       "                                               title  \\\n",
       "0  Ethereum, a Virtual Currency, Enables Transact...   \n",
       "1  Bitcoin Future: When GBPcoin of Branson Wins O...   \n",
       "2                       Google Data Center 360° Tour   \n",
       "3  IBM Wants to \"Evolve the Internet\" With Blockc...   \n",
       "4  IEEE to Talk Blockchain at Cloud Computing Oxf...   \n",
       "\n",
       "                                                text lang  \n",
       "0  All of this work is still very early. The firs...   en  \n",
       "1  The alarm clock wakes me at 8:00 with stream o...   en  \n",
       "2  We're excited to share the Google Data Center ...   en  \n",
       "3  The Aite Group projects the blockchain market ...   en  \n",
       "4  One of the largest and oldest organizations fo...   en  "
      ]
     },
     "execution_count": 8,
     "metadata": {},
     "output_type": "execute_result"
    }
   ],
   "source": [
    "articles_df.head(5)"
   ]
  },
  {
   "cell_type": "code",
   "execution_count": 9,
   "id": "85ff8a87",
   "metadata": {
    "scrolled": false
   },
   "outputs": [
    {
     "data": {
      "text/plain": [
       "title\n",
       "Ethereum, a Virtual Currency, Enables Transactions That Rival Bitcoin's                                         0\n",
       "Bitcoin Future: When GBPcoin of Branson Wins Over USDcoin of Trump                                              1\n",
       "Google Data Center 360° Tour                                                                                    2\n",
       "IBM Wants to \"Evolve the Internet\" With Blockchain Technology                                                   3\n",
       "IEEE to Talk Blockchain at Cloud Computing Oxford-Con - CoinDesk                                                4\n",
       "                                                                                                             ... \n",
       "Conheça a Liga IoT, plataforma de inovação aberta que irá acelerar projetos ligados a Internet das Coisas    3021\n",
       "Amazon takes on Skype and GoToMeeting with its Chime video conferencing app                                  3022\n",
       "Code.org 2016 Annual Report                                                                                  3023\n",
       "JPMorgan Software Does in Seconds What Took Lawyers 360,000 Hours                                            3024\n",
       "The 2017 Acquia Partners of the Year                                                                         3025\n",
       "Length: 3026, dtype: int64"
      ]
     },
     "execution_count": 9,
     "metadata": {},
     "output_type": "execute_result"
    }
   ],
   "source": [
    "indices = pd.Series(articles_df.index, index = articles_df['title'])\n",
    "indices"
   ]
  },
  {
   "cell_type": "code",
   "execution_count": 10,
   "id": "41529181",
   "metadata": {},
   "outputs": [
    {
     "data": {
      "text/plain": [
       "2"
      ]
     },
     "execution_count": 10,
     "metadata": {},
     "output_type": "execute_result"
    }
   ],
   "source": [
    "indices['Google Data Center 360° Tour']"
   ]
  },
  {
   "cell_type": "code",
   "execution_count": 11,
   "id": "52cb9727",
   "metadata": {},
   "outputs": [],
   "source": [
    "def get_recommendation(title, cosine_sim = cosine_simm):\n",
    "    recomm_title_list = []\n",
    "    idx = indices[title]\n",
    "    \n",
    "    similar_scores = enumerate(cosine_sim[idx])\n",
    "    similar_scores = sorted(similar_scores, key = lambda x:x[1], reverse = True)\n",
    "    similar_scores = similar_scores[1:6]\n",
    "    \n",
    "    scores_id = [i[0] for i in similar_scores] \n",
    "    \n",
    "    article_list = articles_df['title'].iloc[scores_id].reset_index()\n",
    "    recomm_title_list = list(article_list['title'])\n",
    "    \n",
    "    content = articles_df[articles_df['title'] == title]\n",
    "    text_content = content['text'].iloc[0]\n",
    "    \n",
    "    return recomm_title_list, text_content\n"
   ]
  },
  {
   "cell_type": "code",
   "execution_count": 12,
   "id": "6bb69919",
   "metadata": {},
   "outputs": [
    {
     "data": {
      "text/plain": [
       "([\"America's allies are preparing for a bumpy ride\",\n",
       "  \"I've had the chance to troll Donald Trump. But I didn't.\",\n",
       "  'What A Difference 2 Percentage Points Makes',\n",
       "  'How To Benefit From Getting Paid in Bitcoin',\n",
       "  'Blockchain Will Be Used By 15% of Big Banks By 2017'],\n",
       " 'The alarm clock wakes me at 8:00 with stream of advert-free broadcasting, charged at one satoshi per second. The current BTC exchange rate makes that snooze button a costly proposition! So I get up, make coffee and go to my computer to check the overnight performance of my bots. TradeBot earns me on Trump and Branson TradeBot, which allocates funds between the main chain and various national currency side-chains, generated a lucrative 0.24 BTC return. TradeBot has been reliably profitable ever since I set it to trade USDcoin according to political prediction market data. As expected, the latest poll numbers came in as highly supportive of Trump\\'s re-election as USDcoin CEO. Trump\\'s resistance to de-anonymizing public spending, by moving USDcoin off the Confidential Transactions layer, continues to erode his coin\\'s credibility. In his latest speech, Trump maintains that full CT-privacy is essential to \"combatting CNYcoin\\'s sinister ring-signature scheming.\" I make a note to increase my long position in GBPcoin. Following CEO Branson\\'s memo to the effect that government finances and national banks be brought into compliance with the public blockchain , British corruption indices have flatlined. As the first national econmy to \"go light,\" Britain leads the global recovery from the Great Debt Default of \\'20. Happy with the GoatData Project I check TeachBot and note that it\\'s performing in-line with expectations. TeachBot serves as an autonomous info-agent between various contracting AIs and data providers. The 0.5 BTC bounty it awarded to a team of Sherpas to outfit a herd of Tibetan mountain goats with full motion-sensing rigs has already been repaid...I check the latest figures... four times over! My best TeachBot strategy to date, the GoatData project provides valuable data to WinterHoof, the Artificial General Intelligence in charge of the Swiss military\\'s quadripedal robotics program. At this rate, I\\'ll soon have enough BTC to retire to Satoshi City on Mars!')"
      ]
     },
     "execution_count": 12,
     "metadata": {},
     "output_type": "execute_result"
    }
   ],
   "source": [
    "get_recommendation('Bitcoin Future: When GBPcoin of Branson Wins Over USDcoin of Trump')"
   ]
  },
  {
   "cell_type": "markdown",
   "id": "2ababf13",
   "metadata": {},
   "source": [
    "# Transformer Model: all-MiniLM-L6-v2"
   ]
  },
  {
   "cell_type": "code",
   "execution_count": 15,
   "id": "d722aee7",
   "metadata": {},
   "outputs": [
    {
     "data": {
      "text/html": [
       "<div>\n",
       "<style scoped>\n",
       "    .dataframe tbody tr th:only-of-type {\n",
       "        vertical-align: middle;\n",
       "    }\n",
       "\n",
       "    .dataframe tbody tr th {\n",
       "        vertical-align: top;\n",
       "    }\n",
       "\n",
       "    .dataframe thead th {\n",
       "        text-align: right;\n",
       "    }\n",
       "</style>\n",
       "<table border=\"1\" class=\"dataframe\">\n",
       "  <thead>\n",
       "    <tr style=\"text-align: right;\">\n",
       "      <th></th>\n",
       "      <th>title</th>\n",
       "      <th>text</th>\n",
       "    </tr>\n",
       "  </thead>\n",
       "  <tbody>\n",
       "    <tr>\n",
       "      <th>0</th>\n",
       "      <td>Ethereum, a Virtual Currency, Enables Transact...</td>\n",
       "      <td>All of this work is still very early. The firs...</td>\n",
       "    </tr>\n",
       "    <tr>\n",
       "      <th>1</th>\n",
       "      <td>Bitcoin Future: When GBPcoin of Branson Wins O...</td>\n",
       "      <td>The alarm clock wakes me at 8:00 with stream o...</td>\n",
       "    </tr>\n",
       "    <tr>\n",
       "      <th>2</th>\n",
       "      <td>Google Data Center 360° Tour</td>\n",
       "      <td>We're excited to share the Google Data Center ...</td>\n",
       "    </tr>\n",
       "    <tr>\n",
       "      <th>3</th>\n",
       "      <td>IBM Wants to \"Evolve the Internet\" With Blockc...</td>\n",
       "      <td>The Aite Group projects the blockchain market ...</td>\n",
       "    </tr>\n",
       "    <tr>\n",
       "      <th>4</th>\n",
       "      <td>IEEE to Talk Blockchain at Cloud Computing Oxf...</td>\n",
       "      <td>One of the largest and oldest organizations fo...</td>\n",
       "    </tr>\n",
       "    <tr>\n",
       "      <th>...</th>\n",
       "      <td>...</td>\n",
       "      <td>...</td>\n",
       "    </tr>\n",
       "    <tr>\n",
       "      <th>3021</th>\n",
       "      <td>Conheça a Liga IoT, plataforma de inovação abe...</td>\n",
       "      <td>A Liga Ventures, aceleradora de startups espec...</td>\n",
       "    </tr>\n",
       "    <tr>\n",
       "      <th>3022</th>\n",
       "      <td>Amazon takes on Skype and GoToMeeting with its...</td>\n",
       "      <td>Amazon has launched Chime, a video conferencin...</td>\n",
       "    </tr>\n",
       "    <tr>\n",
       "      <th>3023</th>\n",
       "      <td>Code.org 2016 Annual Report</td>\n",
       "      <td>February 9, 2017 - We begin each year with a l...</td>\n",
       "    </tr>\n",
       "    <tr>\n",
       "      <th>3024</th>\n",
       "      <td>JPMorgan Software Does in Seconds What Took La...</td>\n",
       "      <td>At JPMorgan Chase &amp; Co., a learning machine is...</td>\n",
       "    </tr>\n",
       "    <tr>\n",
       "      <th>3025</th>\n",
       "      <td>The 2017 Acquia Partners of the Year</td>\n",
       "      <td>The Acquia Partner Awards Program is comprised...</td>\n",
       "    </tr>\n",
       "  </tbody>\n",
       "</table>\n",
       "<p>3026 rows × 2 columns</p>\n",
       "</div>"
      ],
      "text/plain": [
       "                                                  title  \\\n",
       "0     Ethereum, a Virtual Currency, Enables Transact...   \n",
       "1     Bitcoin Future: When GBPcoin of Branson Wins O...   \n",
       "2                          Google Data Center 360° Tour   \n",
       "3     IBM Wants to \"Evolve the Internet\" With Blockc...   \n",
       "4     IEEE to Talk Blockchain at Cloud Computing Oxf...   \n",
       "...                                                 ...   \n",
       "3021  Conheça a Liga IoT, plataforma de inovação abe...   \n",
       "3022  Amazon takes on Skype and GoToMeeting with its...   \n",
       "3023                        Code.org 2016 Annual Report   \n",
       "3024  JPMorgan Software Does in Seconds What Took La...   \n",
       "3025               The 2017 Acquia Partners of the Year   \n",
       "\n",
       "                                                   text  \n",
       "0     All of this work is still very early. The firs...  \n",
       "1     The alarm clock wakes me at 8:00 with stream o...  \n",
       "2     We're excited to share the Google Data Center ...  \n",
       "3     The Aite Group projects the blockchain market ...  \n",
       "4     One of the largest and oldest organizations fo...  \n",
       "...                                                 ...  \n",
       "3021  A Liga Ventures, aceleradora de startups espec...  \n",
       "3022  Amazon has launched Chime, a video conferencin...  \n",
       "3023  February 9, 2017 - We begin each year with a l...  \n",
       "3024  At JPMorgan Chase & Co., a learning machine is...  \n",
       "3025  The Acquia Partner Awards Program is comprised...  \n",
       "\n",
       "[3026 rows x 2 columns]"
      ]
     },
     "execution_count": 15,
     "metadata": {},
     "output_type": "execute_result"
    }
   ],
   "source": [
    "articles_df[['title','text']]"
   ]
  },
  {
   "cell_type": "code",
   "execution_count": 16,
   "id": "2632466c",
   "metadata": {},
   "outputs": [
    {
     "name": "stdout",
     "output_type": "stream",
     "text": [
      "WARNING:tensorflow:From C:\\Users\\Yash\\Tensorflow_project\\tfenv\\lib\\site-packages\\tf_keras\\src\\losses.py:2976: The name tf.losses.sparse_softmax_cross_entropy is deprecated. Please use tf.compat.v1.losses.sparse_softmax_cross_entropy instead.\n",
      "\n"
     ]
    },
    {
     "name": "stderr",
     "output_type": "stream",
     "text": [
      "Batches: 100%|███████████████████████████████████████████████████████████████████████| 190/190 [02:30<00:00,  1.26it/s]\n"
     ]
    }
   ],
   "source": [
    "from sentence_transformers import SentenceTransformer\n",
    "from sklearn.metrics.pairwise import cosine_similarity\n",
    "\n",
    "from sentence_transformers import SentenceTransformer\n",
    "\n",
    "model = SentenceTransformer(\"sentence-transformers/all-MiniLM-L6-v2\")\n",
    "\n",
    "article_list = []\n",
    "article_list = list(articles_df['text'])\n",
    "# print(article_list)\n",
    "\n",
    "articles_embeddings = model.encode(article_list, batch_size=16, show_progress_bar=True, normalize_embeddings=True, convert_to_tensor = True)\n",
    "\n"
   ]
  },
  {
   "cell_type": "code",
   "execution_count": 17,
   "id": "e0a2767f",
   "metadata": {},
   "outputs": [
    {
     "name": "stdout",
     "output_type": "stream",
     "text": [
      "torch.Size([3026, 3026])\n"
     ]
    }
   ],
   "source": [
    "similarities = model.similarity(articles_embeddings, articles_embeddings)\n",
    "print(similarities.shape)"
   ]
  },
  {
   "cell_type": "code",
   "execution_count": 18,
   "id": "e69aa2ce",
   "metadata": {},
   "outputs": [
    {
     "data": {
      "text/plain": [
       "title\n",
       "Ethereum, a Virtual Currency, Enables Transactions That Rival Bitcoin's                                         0\n",
       "Bitcoin Future: When GBPcoin of Branson Wins Over USDcoin of Trump                                              1\n",
       "Google Data Center 360° Tour                                                                                    2\n",
       "IBM Wants to \"Evolve the Internet\" With Blockchain Technology                                                   3\n",
       "IEEE to Talk Blockchain at Cloud Computing Oxford-Con - CoinDesk                                                4\n",
       "                                                                                                             ... \n",
       "Conheça a Liga IoT, plataforma de inovação aberta que irá acelerar projetos ligados a Internet das Coisas    3021\n",
       "Amazon takes on Skype and GoToMeeting with its Chime video conferencing app                                  3022\n",
       "Code.org 2016 Annual Report                                                                                  3023\n",
       "JPMorgan Software Does in Seconds What Took Lawyers 360,000 Hours                                            3024\n",
       "The 2017 Acquia Partners of the Year                                                                         3025\n",
       "Length: 3026, dtype: int64"
      ]
     },
     "execution_count": 18,
     "metadata": {},
     "output_type": "execute_result"
    }
   ],
   "source": [
    "indices_lmv = pd.Series(articles_df.index, index = articles_df['title'])\n",
    "indices_lmv"
   ]
  },
  {
   "cell_type": "code",
   "execution_count": 19,
   "id": "67d72c6a",
   "metadata": {},
   "outputs": [],
   "source": [
    "def get_recommendation_miniLM(title, cosine_sim = similarities):\n",
    "    recomm_title_list = []\n",
    "    idx = indices_lmv[title]\n",
    "    \n",
    "    similar_scores = enumerate(cosine_sim[idx])\n",
    "    similar_scores = sorted(similar_scores, key = lambda x:x[1], reverse = True)\n",
    "    similar_scores = similar_scores[1:6]\n",
    "    \n",
    "    scores_id = [i[0] for i in similar_scores] \n",
    "    \n",
    "    article_list = articles_df['title'].iloc[scores_id].reset_index()\n",
    "    recomm_title_list = list(article_list['title'])\n",
    "    \n",
    "    content = articles_df[articles_df['title'] == title]\n",
    "    text_content = content['text'].iloc[0]\n",
    "    \n",
    "    return recomm_title_list, text_content"
   ]
  },
  {
   "cell_type": "code",
   "execution_count": 20,
   "id": "a36388d9",
   "metadata": {},
   "outputs": [
    {
     "data": {
      "text/plain": [
       "(['Google Failure, Ethereum Leaps, ECB Giveout in Cointelegraph Daily Digest',\n",
       "  'This New Banking AI Is the Here and Now of Chatbots',\n",
       "  'Why 2016 is shaping up to be the Year of the Bot',\n",
       "  '3 Big Blockchain Ideas MIT is Working on Right Now - CoinDesk',\n",
       "  \"The Real Lesson for Data Science That is Demonstrated by Palantir's Struggles\"],\n",
       " 'The alarm clock wakes me at 8:00 with stream of advert-free broadcasting, charged at one satoshi per second. The current BTC exchange rate makes that snooze button a costly proposition! So I get up, make coffee and go to my computer to check the overnight performance of my bots. TradeBot earns me on Trump and Branson TradeBot, which allocates funds between the main chain and various national currency side-chains, generated a lucrative 0.24 BTC return. TradeBot has been reliably profitable ever since I set it to trade USDcoin according to political prediction market data. As expected, the latest poll numbers came in as highly supportive of Trump\\'s re-election as USDcoin CEO. Trump\\'s resistance to de-anonymizing public spending, by moving USDcoin off the Confidential Transactions layer, continues to erode his coin\\'s credibility. In his latest speech, Trump maintains that full CT-privacy is essential to \"combatting CNYcoin\\'s sinister ring-signature scheming.\" I make a note to increase my long position in GBPcoin. Following CEO Branson\\'s memo to the effect that government finances and national banks be brought into compliance with the public blockchain , British corruption indices have flatlined. As the first national econmy to \"go light,\" Britain leads the global recovery from the Great Debt Default of \\'20. Happy with the GoatData Project I check TeachBot and note that it\\'s performing in-line with expectations. TeachBot serves as an autonomous info-agent between various contracting AIs and data providers. The 0.5 BTC bounty it awarded to a team of Sherpas to outfit a herd of Tibetan mountain goats with full motion-sensing rigs has already been repaid...I check the latest figures... four times over! My best TeachBot strategy to date, the GoatData project provides valuable data to WinterHoof, the Artificial General Intelligence in charge of the Swiss military\\'s quadripedal robotics program. At this rate, I\\'ll soon have enough BTC to retire to Satoshi City on Mars!')"
      ]
     },
     "execution_count": 20,
     "metadata": {},
     "output_type": "execute_result"
    }
   ],
   "source": [
    "get_recommendation_miniLM('Bitcoin Future: When GBPcoin of Branson Wins Over USDcoin of Trump')"
   ]
  },
  {
   "cell_type": "code",
   "execution_count": 21,
   "id": "ffb85534",
   "metadata": {},
   "outputs": [
    {
     "data": {
      "text/plain": [
       "([\"America's allies are preparing for a bumpy ride\",\n",
       "  \"I've had the chance to troll Donald Trump. But I didn't.\",\n",
       "  'What A Difference 2 Percentage Points Makes',\n",
       "  'How To Benefit From Getting Paid in Bitcoin',\n",
       "  'Blockchain Will Be Used By 15% of Big Banks By 2017'],\n",
       " 'The alarm clock wakes me at 8:00 with stream of advert-free broadcasting, charged at one satoshi per second. The current BTC exchange rate makes that snooze button a costly proposition! So I get up, make coffee and go to my computer to check the overnight performance of my bots. TradeBot earns me on Trump and Branson TradeBot, which allocates funds between the main chain and various national currency side-chains, generated a lucrative 0.24 BTC return. TradeBot has been reliably profitable ever since I set it to trade USDcoin according to political prediction market data. As expected, the latest poll numbers came in as highly supportive of Trump\\'s re-election as USDcoin CEO. Trump\\'s resistance to de-anonymizing public spending, by moving USDcoin off the Confidential Transactions layer, continues to erode his coin\\'s credibility. In his latest speech, Trump maintains that full CT-privacy is essential to \"combatting CNYcoin\\'s sinister ring-signature scheming.\" I make a note to increase my long position in GBPcoin. Following CEO Branson\\'s memo to the effect that government finances and national banks be brought into compliance with the public blockchain , British corruption indices have flatlined. As the first national econmy to \"go light,\" Britain leads the global recovery from the Great Debt Default of \\'20. Happy with the GoatData Project I check TeachBot and note that it\\'s performing in-line with expectations. TeachBot serves as an autonomous info-agent between various contracting AIs and data providers. The 0.5 BTC bounty it awarded to a team of Sherpas to outfit a herd of Tibetan mountain goats with full motion-sensing rigs has already been repaid...I check the latest figures... four times over! My best TeachBot strategy to date, the GoatData project provides valuable data to WinterHoof, the Artificial General Intelligence in charge of the Swiss military\\'s quadripedal robotics program. At this rate, I\\'ll soon have enough BTC to retire to Satoshi City on Mars!')"
      ]
     },
     "execution_count": 21,
     "metadata": {},
     "output_type": "execute_result"
    }
   ],
   "source": [
    "get_recommendation('Bitcoin Future: When GBPcoin of Branson Wins Over USDcoin of Trump')"
   ]
  },
  {
   "cell_type": "code",
   "execution_count": 22,
   "id": "bc361301",
   "metadata": {},
   "outputs": [],
   "source": [
    "def recommend(title):\n",
    "    content_recommendations = get_recommendation_miniLM(title)\n",
    "    return content_recommendations[1], \"\\n\\n\".join(content_recommendations[0])"
   ]
  },
  {
   "cell_type": "code",
   "execution_count": 23,
   "id": "87c04a8c",
   "metadata": {},
   "outputs": [
    {
     "name": "stdout",
     "output_type": "stream",
     "text": [
      "* Running on local URL:  http://127.0.0.1:7860\n",
      "\n",
      "To create a public link, set `share=True` in `launch()`.\n"
     ]
    },
    {
     "data": {
      "text/html": [
       "<div><iframe src=\"http://127.0.0.1:7860/\" width=\"100%\" height=\"500\" allow=\"autoplay; camera; microphone; clipboard-read; clipboard-write;\" frameborder=\"0\" allowfullscreen></iframe></div>"
      ],
      "text/plain": [
       "<IPython.core.display.HTML object>"
      ]
     },
     "metadata": {},
     "output_type": "display_data"
    },
    {
     "data": {
      "text/plain": []
     },
     "execution_count": 23,
     "metadata": {},
     "output_type": "execute_result"
    }
   ],
   "source": [
    "interface = gr.Interface(\n",
    "    fn=recommend,\n",
    "    inputs=gr.Dropdown(choices=list(articles_df['title']), label=\"Select Article Title\"),\n",
    "    outputs=[\n",
    "        gr.Textbox(label=\"Article Content\"),  # This output will be in a separate column\n",
    "        gr.Textbox(label=\"Top 5 Recommendations\")  # This output will be in a separate column\n",
    "    ],\n",
    "    title=\"Articles Recommendation Engine\",\n",
    "    description=\"Select an article to view its content and get personalized recommendations.\"\n",
    ")\n",
    "\n",
    "interface.launch()"
   ]
  }
 ],
 "metadata": {
  "kernelspec": {
   "display_name": "tfkernel",
   "language": "python",
   "name": "tfkernel"
  },
  "language_info": {
   "codemirror_mode": {
    "name": "ipython",
    "version": 3
   },
   "file_extension": ".py",
   "mimetype": "text/x-python",
   "name": "python",
   "nbconvert_exporter": "python",
   "pygments_lexer": "ipython3",
   "version": "3.10.1"
  }
 },
 "nbformat": 4,
 "nbformat_minor": 5
}
